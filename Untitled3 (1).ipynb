{
 "cells": [
  {
   "cell_type": "code",
   "execution_count": null,
   "id": "8a5a2dc7-b957-47d0-94a0-81268ddbe4df",
   "metadata": {},
   "outputs": [],
   "source": [
    "Q1. Load the \"titanic\" dataset using the load_dataset function of seaborn. Use Plotly express to plot a\n",
    "scatter plot for age and fare columns in the titanic dataset.\n",
    "Answer--To plot a scatter plot for the \"age\" and \"fare\" columns in the Titanic dataset \n",
    "using Plotly Express, you first need to load the dataset using Seaborn's\n",
    "load_dataset function, and then you can create the scatter plot using Plotly Express.\n",
    "import seaborn as sns\n",
    "import plotly.express as px\n",
    "\n",
    "# Load the titanic dataset\n",
    "titanic_data = sns.load_dataset(\"titanic\")\n",
    "\n",
    "# Create scatter plot using Plotly Express\n",
    "scatter_plot = px.scatter(titanic_data, x='age', y='fare', title='Scatter Plot of Age vs Fare')\n",
    "\n",
    "# Show the plot\n",
    "scatter_plot.show()\n",
    "\n",
    "Q2. Using the tips dataset in the Plotly library, plot a box plot using Plotly express.\n",
    "Answer--To plot a box plot using Plotly Express with the \"tips\" dataset, you can follow these steps:\n",
    "\n",
    "Load the \"tips\" dataset from the Plotly library.\n",
    "Use Plotly Express to create the box plot for the desired variables\n",
    "\n",
    "import plotly.express as px\n",
    "\n",
    "# Load the tips dataset from Plotly\n",
    "tips_data = px.data.tips()\n",
    "\n",
    "# Create a box plot using Plotly Express\n",
    "box_plot = px.box(tips_data, x='day', y='total_bill', title='Box Plot of Total Bill by Day')\n",
    "\n",
    "# Show the plot\n",
    "box_plot.show()\n",
    "\n",
    "\n",
    "Q3. Using the tips dataset in the Plotly library, Plot a histogram for x= \"sex\" and y=\"total_bill\" column in\n",
    "the tips dataset. Also, use the \"smoker\" column with the pattern_shape parameter and the \"day\"\n",
    "column with the color parameter.\n",
    "Answer--"
   ]
  }
 ],
 "metadata": {
  "kernelspec": {
   "display_name": "Python 3 (ipykernel)",
   "language": "python",
   "name": "python3"
  },
  "language_info": {
   "codemirror_mode": {
    "name": "ipython",
    "version": 3
   },
   "file_extension": ".py",
   "mimetype": "text/x-python",
   "name": "python",
   "nbconvert_exporter": "python",
   "pygments_lexer": "ipython3",
   "version": "3.10.8"
  }
 },
 "nbformat": 4,
 "nbformat_minor": 5
}
